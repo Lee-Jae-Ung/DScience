{
  "nbformat": 4,
  "nbformat_minor": 0,
  "metadata": {
    "colab": {
      "name": "covid_death_rate.ipynb",
      "provenance": [],
      "authorship_tag": "ABX9TyO3e14+p0BiHKADO0vO537s",
      "include_colab_link": true
    },
    "kernelspec": {
      "name": "python3",
      "display_name": "Python 3"
    },
    "language_info": {
      "name": "python"
    }
  },
  "cells": [
    {
      "cell_type": "markdown",
      "metadata": {
        "id": "view-in-github",
        "colab_type": "text"
      },
      "source": [
        "<a href=\"https://colab.research.google.com/github/Lee-Jae-Ung/DScience/blob/main/covid_death_rate.ipynb\" target=\"_parent\"><img src=\"https://colab.research.google.com/assets/colab-badge.svg\" alt=\"Open In Colab\"/></a>"
      ]
    },
    {
      "cell_type": "code",
      "metadata": {
        "colab": {
          "base_uri": "https://localhost:8080/"
        },
        "id": "t65NGUn62Xwk",
        "outputId": "6596125d-a4b0-49c2-b975-b92ec64d1d03"
      },
      "source": [
        "# HIDDEN\n",
        "from datascience import *\n",
        "import numpy as np\n",
        "\n",
        "import matplotlib\n",
        "matplotlib.use('Agg', warn=False)\n",
        "%matplotlib inline\n",
        "import matplotlib.pyplot as plots\n",
        "plots.style.use('fivethirtyeight')\n",
        "np.set_printoptions(threshold=50)\n",
        "import datetime as dt"
      ],
      "execution_count": null,
      "outputs": [
        {
          "output_type": "stream",
          "text": [
            "/usr/local/lib/python3.7/dist-packages/datascience/tables.py:17: MatplotlibDeprecationWarning: The 'warn' parameter of use() is deprecated since Matplotlib 3.1 and will be removed in 3.3.  If any parameter follows 'warn', they should be pass as keyword, not positionally.\n",
            "  matplotlib.use('agg', warn=False)\n",
            "/usr/local/lib/python3.7/dist-packages/datascience/util.py:10: MatplotlibDeprecationWarning: The 'warn' parameter of use() is deprecated since Matplotlib 3.1 and will be removed in 3.3.  If any parameter follows 'warn', they should be pass as keyword, not positionally.\n",
            "  matplotlib.use('agg', warn=False)\n",
            "/usr/local/lib/python3.7/dist-packages/ipykernel_launcher.py:6: MatplotlibDeprecationWarning: The 'warn' parameter of use() is deprecated since Matplotlib 3.1 and will be removed in 3.3.  If any parameter follows 'warn', they should be pass as keyword, not positionally.\n",
            "  \n"
          ],
          "name": "stderr"
        }
      ]
    },
    {
      "cell_type": "code",
      "metadata": {
        "colab": {
          "base_uri": "https://localhost:8080/",
          "height": 572
        },
        "id": "62CyLJ3u2q0l",
        "outputId": "7134231b-dc16-4ddc-f504-754aa5165a0b"
      },
      "source": [
        "covid = Table.read_table('/content/all_weekly_excess_deaths.csv')\n",
        "covid"
      ],
      "execution_count": null,
      "outputs": [
        {
          "output_type": "execute_result",
          "data": {
            "text/html": [
              "<table border=\"1\" class=\"dataframe\">\n",
              "    <thead>\n",
              "        <tr>\n",
              "            <th>country</th> <th>region</th> <th>region_code</th> <th>start_date</th> <th>end_date</th> <th>days</th> <th>year</th> <th>week</th> <th>population</th> <th>total_deaths</th> <th>covid_deaths</th> <th>expected_deaths</th> <th>excess_deaths</th> <th>non_covid_deaths</th> <th>covid_deaths_per_100k</th> <th>excess_deaths_per_100k</th> <th>excess_deaths_pct_change</th>\n",
              "        </tr>\n",
              "    </thead>\n",
              "    <tbody>\n",
              "        <tr>\n",
              "            <td>Australia</td> <td>Australia</td> <td>0          </td> <td>2019-12-30</td> <td>2020-01-05</td> <td>7   </td> <td>2020</td> <td>1   </td> <td>25814400  </td> <td>2499        </td> <td>0           </td> <td>2566.74        </td> <td>-67.7427     </td> <td>2499            </td> <td>0                    </td> <td>-0.262422             </td> <td>-0.0263925              </td>\n",
              "        </tr>\n",
              "        <tr>\n",
              "            <td>Australia</td> <td>Australia</td> <td>0          </td> <td>2020-01-06</td> <td>2020-01-12</td> <td>7   </td> <td>2020</td> <td>2   </td> <td>25814400  </td> <td>2512        </td> <td>0           </td> <td>2561.91        </td> <td>-49.9094     </td> <td>2512            </td> <td>0                    </td> <td>-0.193339             </td> <td>-0.0194813              </td>\n",
              "        </tr>\n",
              "        <tr>\n",
              "            <td>Australia</td> <td>Australia</td> <td>0          </td> <td>2020-01-13</td> <td>2020-01-19</td> <td>7   </td> <td>2020</td> <td>3   </td> <td>25814400  </td> <td>2501        </td> <td>0           </td> <td>2539.74        </td> <td>-38.7427     </td> <td>2501            </td> <td>0                    </td> <td>-0.150082             </td> <td>-0.0152546              </td>\n",
              "        </tr>\n",
              "        <tr>\n",
              "            <td>Australia</td> <td>Australia</td> <td>0          </td> <td>2020-01-20</td> <td>2020-01-26</td> <td>7   </td> <td>2020</td> <td>4   </td> <td>25814400  </td> <td>2597        </td> <td>0           </td> <td>2539.91        </td> <td>57.0906      </td> <td>2597            </td> <td>0                    </td> <td>0.221158              </td> <td>0.0224774               </td>\n",
              "        </tr>\n",
              "        <tr>\n",
              "            <td>Australia</td> <td>Australia</td> <td>0          </td> <td>2020-01-27</td> <td>2020-02-02</td> <td>7   </td> <td>2020</td> <td>5   </td> <td>25814400  </td> <td>2511        </td> <td>0           </td> <td>2529.24        </td> <td>-18.2427     </td> <td>2511            </td> <td>0                    </td> <td>-0.0706689            </td> <td>-0.00721273             </td>\n",
              "        </tr>\n",
              "        <tr>\n",
              "            <td>Australia</td> <td>Australia</td> <td>0          </td> <td>2020-02-03</td> <td>2020-02-09</td> <td>7   </td> <td>2020</td> <td>6   </td> <td>25814400  </td> <td>2530        </td> <td>0           </td> <td>2536.58        </td> <td>-6.57608     </td> <td>2530            </td> <td>0                    </td> <td>-0.0254745            </td> <td>-0.0025925              </td>\n",
              "        </tr>\n",
              "        <tr>\n",
              "            <td>Australia</td> <td>Australia</td> <td>0          </td> <td>2020-02-10</td> <td>2020-02-16</td> <td>7   </td> <td>2020</td> <td>7   </td> <td>25814400  </td> <td>2613        </td> <td>0           </td> <td>2556.74        </td> <td>56.2573      </td> <td>2613            </td> <td>0                    </td> <td>0.21793               </td> <td>0.0220035               </td>\n",
              "        </tr>\n",
              "        <tr>\n",
              "            <td>Australia</td> <td>Australia</td> <td>0          </td> <td>2020-02-17</td> <td>2020-02-23</td> <td>7   </td> <td>2020</td> <td>8   </td> <td>25814400  </td> <td>2608        </td> <td>0           </td> <td>2576.58        </td> <td>31.4239      </td> <td>2608            </td> <td>0                    </td> <td>0.12173               </td> <td>0.012196                </td>\n",
              "        </tr>\n",
              "        <tr>\n",
              "            <td>Australia</td> <td>Australia</td> <td>0          </td> <td>2020-02-24</td> <td>2020-03-01</td> <td>7   </td> <td>2020</td> <td>9   </td> <td>25814400  </td> <td>2678        </td> <td>1           </td> <td>2568.89        </td> <td>109.109      </td> <td>2677            </td> <td>0.00387381           </td> <td>0.422666              </td> <td>0.0424731               </td>\n",
              "        </tr>\n",
              "        <tr>\n",
              "            <td>Australia</td> <td>Australia</td> <td>0          </td> <td>2020-03-02</td> <td>2020-03-08</td> <td>7   </td> <td>2020</td> <td>10  </td> <td>25814400  </td> <td>2602        </td> <td>2           </td> <td>2606.69        </td> <td>-4.69129     </td> <td>2600            </td> <td>0.00774761           </td> <td>-0.0181732            </td> <td>-0.00179971             </td>\n",
              "        </tr>\n",
              "    </tbody>\n",
              "</table>\n",
              "<p>... (7424 rows omitted)</p>"
            ],
            "text/plain": [
              "country   | region    | region_code | start_date | end_date   | days | year | week | population | total_deaths | covid_deaths | expected_deaths | excess_deaths | non_covid_deaths | covid_deaths_per_100k | excess_deaths_per_100k | excess_deaths_pct_change\n",
              "Australia | Australia | 0           | 2019-12-30 | 2020-01-05 | 7    | 2020 | 1    | 25814400   | 2499         | 0            | 2566.74         | -67.7427      | 2499             | 0                     | -0.262422              | -0.0263925\n",
              "Australia | Australia | 0           | 2020-01-06 | 2020-01-12 | 7    | 2020 | 2    | 25814400   | 2512         | 0            | 2561.91         | -49.9094      | 2512             | 0                     | -0.193339              | -0.0194813\n",
              "Australia | Australia | 0           | 2020-01-13 | 2020-01-19 | 7    | 2020 | 3    | 25814400   | 2501         | 0            | 2539.74         | -38.7427      | 2501             | 0                     | -0.150082              | -0.0152546\n",
              "Australia | Australia | 0           | 2020-01-20 | 2020-01-26 | 7    | 2020 | 4    | 25814400   | 2597         | 0            | 2539.91         | 57.0906       | 2597             | 0                     | 0.221158               | 0.0224774\n",
              "Australia | Australia | 0           | 2020-01-27 | 2020-02-02 | 7    | 2020 | 5    | 25814400   | 2511         | 0            | 2529.24         | -18.2427      | 2511             | 0                     | -0.0706689             | -0.00721273\n",
              "Australia | Australia | 0           | 2020-02-03 | 2020-02-09 | 7    | 2020 | 6    | 25814400   | 2530         | 0            | 2536.58         | -6.57608      | 2530             | 0                     | -0.0254745             | -0.0025925\n",
              "Australia | Australia | 0           | 2020-02-10 | 2020-02-16 | 7    | 2020 | 7    | 25814400   | 2613         | 0            | 2556.74         | 56.2573       | 2613             | 0                     | 0.21793                | 0.0220035\n",
              "Australia | Australia | 0           | 2020-02-17 | 2020-02-23 | 7    | 2020 | 8    | 25814400   | 2608         | 0            | 2576.58         | 31.4239       | 2608             | 0                     | 0.12173                | 0.012196\n",
              "Australia | Australia | 0           | 2020-02-24 | 2020-03-01 | 7    | 2020 | 9    | 25814400   | 2678         | 1            | 2568.89         | 109.109       | 2677             | 0.00387381            | 0.422666               | 0.0424731\n",
              "Australia | Australia | 0           | 2020-03-02 | 2020-03-08 | 7    | 2020 | 10   | 25814400   | 2602         | 2            | 2606.69         | -4.69129      | 2600             | 0.00774761            | -0.0181732             | -0.00179971\n",
              "... (7424 rows omitted)"
            ]
          },
          "metadata": {
            "tags": []
          },
          "execution_count": 2
        }
      ]
    },
    {
      "cell_type": "code",
      "metadata": {
        "colab": {
          "base_uri": "https://localhost:8080/",
          "height": 385
        },
        "id": "Qm4xzH9QAgW-",
        "outputId": "09bf3d93-8b69-4a29-a342-c209af347760"
      },
      "source": [
        "vaccine = Table.read_table('/content/country_vaccinations.csv')\n",
        "vaccine = vaccine.select('country','date','iso_code','daily_vaccinations','vaccines')\n",
        "vaccine"
      ],
      "execution_count": null,
      "outputs": [
        {
          "output_type": "execute_result",
          "data": {
            "text/html": [
              "<table border=\"1\" class=\"dataframe\">\n",
              "    <thead>\n",
              "        <tr>\n",
              "            <th>country</th> <th>date</th> <th>iso_code</th> <th>daily_vaccinations</th> <th>vaccines</th>\n",
              "        </tr>\n",
              "    </thead>\n",
              "    <tbody>\n",
              "        <tr>\n",
              "            <td>Afghanistan</td> <td>2021-02-22</td> <td>AFG     </td> <td>nan               </td> <td>Johnson&Johnson, Oxford/AstraZeneca, Pfizer/BioNTech, Si ...</td>\n",
              "        </tr>\n",
              "        <tr>\n",
              "            <td>Afghanistan</td> <td>2021-02-23</td> <td>AFG     </td> <td>1367              </td> <td>Johnson&Johnson, Oxford/AstraZeneca, Pfizer/BioNTech, Si ...</td>\n",
              "        </tr>\n",
              "        <tr>\n",
              "            <td>Afghanistan</td> <td>2021-02-24</td> <td>AFG     </td> <td>1367              </td> <td>Johnson&Johnson, Oxford/AstraZeneca, Pfizer/BioNTech, Si ...</td>\n",
              "        </tr>\n",
              "        <tr>\n",
              "            <td>Afghanistan</td> <td>2021-02-25</td> <td>AFG     </td> <td>1367              </td> <td>Johnson&Johnson, Oxford/AstraZeneca, Pfizer/BioNTech, Si ...</td>\n",
              "        </tr>\n",
              "        <tr>\n",
              "            <td>Afghanistan</td> <td>2021-02-26</td> <td>AFG     </td> <td>1367              </td> <td>Johnson&Johnson, Oxford/AstraZeneca, Pfizer/BioNTech, Si ...</td>\n",
              "        </tr>\n",
              "        <tr>\n",
              "            <td>Afghanistan</td> <td>2021-02-27</td> <td>AFG     </td> <td>1367              </td> <td>Johnson&Johnson, Oxford/AstraZeneca, Pfizer/BioNTech, Si ...</td>\n",
              "        </tr>\n",
              "        <tr>\n",
              "            <td>Afghanistan</td> <td>2021-02-28</td> <td>AFG     </td> <td>1367              </td> <td>Johnson&Johnson, Oxford/AstraZeneca, Pfizer/BioNTech, Si ...</td>\n",
              "        </tr>\n",
              "        <tr>\n",
              "            <td>Afghanistan</td> <td>2021-03-01</td> <td>AFG     </td> <td>1580              </td> <td>Johnson&Johnson, Oxford/AstraZeneca, Pfizer/BioNTech, Si ...</td>\n",
              "        </tr>\n",
              "        <tr>\n",
              "            <td>Afghanistan</td> <td>2021-03-02</td> <td>AFG     </td> <td>1794              </td> <td>Johnson&Johnson, Oxford/AstraZeneca, Pfizer/BioNTech, Si ...</td>\n",
              "        </tr>\n",
              "        <tr>\n",
              "            <td>Afghanistan</td> <td>2021-03-03</td> <td>AFG     </td> <td>2008              </td> <td>Johnson&Johnson, Oxford/AstraZeneca, Pfizer/BioNTech, Si ...</td>\n",
              "        </tr>\n",
              "    </tbody>\n",
              "</table>\n",
              "<p>... (26790 rows omitted)</p>"
            ],
            "text/plain": [
              "country     | date       | iso_code | daily_vaccinations | vaccines\n",
              "Afghanistan | 2021-02-22 | AFG      | nan                | Johnson&Johnson, Oxford/AstraZeneca, Pfizer/BioNTech, Si ...\n",
              "Afghanistan | 2021-02-23 | AFG      | 1367               | Johnson&Johnson, Oxford/AstraZeneca, Pfizer/BioNTech, Si ...\n",
              "Afghanistan | 2021-02-24 | AFG      | 1367               | Johnson&Johnson, Oxford/AstraZeneca, Pfizer/BioNTech, Si ...\n",
              "Afghanistan | 2021-02-25 | AFG      | 1367               | Johnson&Johnson, Oxford/AstraZeneca, Pfizer/BioNTech, Si ...\n",
              "Afghanistan | 2021-02-26 | AFG      | 1367               | Johnson&Johnson, Oxford/AstraZeneca, Pfizer/BioNTech, Si ...\n",
              "Afghanistan | 2021-02-27 | AFG      | 1367               | Johnson&Johnson, Oxford/AstraZeneca, Pfizer/BioNTech, Si ...\n",
              "Afghanistan | 2021-02-28 | AFG      | 1367               | Johnson&Johnson, Oxford/AstraZeneca, Pfizer/BioNTech, Si ...\n",
              "Afghanistan | 2021-03-01 | AFG      | 1580               | Johnson&Johnson, Oxford/AstraZeneca, Pfizer/BioNTech, Si ...\n",
              "Afghanistan | 2021-03-02 | AFG      | 1794               | Johnson&Johnson, Oxford/AstraZeneca, Pfizer/BioNTech, Si ...\n",
              "Afghanistan | 2021-03-03 | AFG      | 2008               | Johnson&Johnson, Oxford/AstraZeneca, Pfizer/BioNTech, Si ...\n",
              "... (26790 rows omitted)"
            ]
          },
          "metadata": {
            "tags": []
          },
          "execution_count": 3
        }
      ]
    },
    {
      "cell_type": "code",
      "metadata": {
        "colab": {
          "base_uri": "https://localhost:8080/"
        },
        "id": "XDMmbUs9EvKQ",
        "outputId": "97be904c-3bf7-4d7e-e49b-78bd85cff578"
      },
      "source": [
        "vaccine_korea = vaccine.where('country','South Korea')\n",
        "vaccine_korea['week']=61\n",
        "vaccine_korea.where('date',are.between('2021-02-26','2021-03-01'))['week']\n",
        "\n"
      ],
      "execution_count": null,
      "outputs": [
        {
          "output_type": "execute_result",
          "data": {
            "text/plain": [
              "array([], dtype=int64)"
            ]
          },
          "metadata": {
            "tags": []
          },
          "execution_count": 4
        }
      ]
    },
    {
      "cell_type": "code",
      "metadata": {
        "colab": {
          "base_uri": "https://localhost:8080/",
          "height": 572
        },
        "id": "QAg03Upo22Rc",
        "outputId": "f430bd2f-538f-4cfe-dfbb-7942abec657e"
      },
      "source": [
        "covid_death_korea = covid.where('country','South Korea')\n",
        "covid_death_korea"
      ],
      "execution_count": null,
      "outputs": [
        {
          "output_type": "execute_result",
          "data": {
            "text/html": [
              "<table border=\"1\" class=\"dataframe\">\n",
              "    <thead>\n",
              "        <tr>\n",
              "            <th>country</th> <th>region</th> <th>region_code</th> <th>start_date</th> <th>end_date</th> <th>days</th> <th>year</th> <th>week</th> <th>population</th> <th>total_deaths</th> <th>covid_deaths</th> <th>expected_deaths</th> <th>excess_deaths</th> <th>non_covid_deaths</th> <th>covid_deaths_per_100k</th> <th>excess_deaths_per_100k</th> <th>excess_deaths_pct_change</th>\n",
              "        </tr>\n",
              "    </thead>\n",
              "    <tbody>\n",
              "        <tr>\n",
              "            <td>South Korea</td> <td>South Korea</td> <td>0          </td> <td>2019-12-30</td> <td>2020-01-05</td> <td>7   </td> <td>2020</td> <td>1   </td> <td>51709098  </td> <td>6438        </td> <td>0           </td> <td>6423.32        </td> <td>14.6835      </td> <td>6438            </td> <td>0                    </td> <td>0.0283964             </td> <td>0.00228597              </td>\n",
              "        </tr>\n",
              "        <tr>\n",
              "            <td>South Korea</td> <td>South Korea</td> <td>0          </td> <td>2020-01-06</td> <td>2020-01-12</td> <td>7   </td> <td>2020</td> <td>2   </td> <td>51709098  </td> <td>6321        </td> <td>0           </td> <td>6433.48        </td> <td>-112.483     </td> <td>6321            </td> <td>0                    </td> <td>-0.217531             </td> <td>-0.017484               </td>\n",
              "        </tr>\n",
              "        <tr>\n",
              "            <td>South Korea</td> <td>South Korea</td> <td>0          </td> <td>2020-01-13</td> <td>2020-01-19</td> <td>7   </td> <td>2020</td> <td>3   </td> <td>51709098  </td> <td>6405        </td> <td>0           </td> <td>6415.65        </td> <td>-10.6498     </td> <td>6405            </td> <td>0                    </td> <td>-0.0205956            </td> <td>-0.00165997             </td>\n",
              "        </tr>\n",
              "        <tr>\n",
              "            <td>South Korea</td> <td>South Korea</td> <td>0          </td> <td>2020-01-20</td> <td>2020-01-26</td> <td>7   </td> <td>2020</td> <td>4   </td> <td>51709098  </td> <td>6490        </td> <td>0           </td> <td>6365.48        </td> <td>124.517      </td> <td>6490            </td> <td>0                    </td> <td>0.240803              </td> <td>0.0195613               </td>\n",
              "        </tr>\n",
              "        <tr>\n",
              "            <td>South Korea</td> <td>South Korea</td> <td>0          </td> <td>2020-01-27</td> <td>2020-02-02</td> <td>7   </td> <td>2020</td> <td>5   </td> <td>51709098  </td> <td>6434        </td> <td>0           </td> <td>6359.82        </td> <td>74.1835      </td> <td>6434            </td> <td>0                    </td> <td>0.143463              </td> <td>0.0116644               </td>\n",
              "        </tr>\n",
              "        <tr>\n",
              "            <td>South Korea</td> <td>South Korea</td> <td>0          </td> <td>2020-02-03</td> <td>2020-02-09</td> <td>7   </td> <td>2020</td> <td>6   </td> <td>51709098  </td> <td>6430        </td> <td>0           </td> <td>6225.48        </td> <td>204.517      </td> <td>6430            </td> <td>0                    </td> <td>0.395514              </td> <td>0.0328516               </td>\n",
              "        </tr>\n",
              "        <tr>\n",
              "            <td>South Korea</td> <td>South Korea</td> <td>0          </td> <td>2020-02-10</td> <td>2020-02-16</td> <td>7   </td> <td>2020</td> <td>7   </td> <td>51709098  </td> <td>6161        </td> <td>0           </td> <td>6181.82        </td> <td>-20.8165     </td> <td>6161            </td> <td>0                    </td> <td>-0.0402569            </td> <td>-0.00336737             </td>\n",
              "        </tr>\n",
              "        <tr>\n",
              "            <td>South Korea</td> <td>South Korea</td> <td>0          </td> <td>2020-02-17</td> <td>2020-02-23</td> <td>7   </td> <td>2020</td> <td>8   </td> <td>51709098  </td> <td>5971        </td> <td>6           </td> <td>6187.82        </td> <td>-216.816     </td> <td>5965            </td> <td>0.0116034            </td> <td>-0.4193               </td> <td>-0.0350393              </td>\n",
              "        </tr>\n",
              "        <tr>\n",
              "            <td>South Korea</td> <td>South Korea</td> <td>0          </td> <td>2020-02-24</td> <td>2020-03-01</td> <td>7   </td> <td>2020</td> <td>9   </td> <td>51709098  </td> <td>6014        </td> <td>11          </td> <td>6200.58        </td> <td>-186.58      </td> <td>6003            </td> <td>0.0212729            </td> <td>-0.360826             </td> <td>-0.0300907              </td>\n",
              "        </tr>\n",
              "        <tr>\n",
              "            <td>South Korea</td> <td>South Korea</td> <td>0          </td> <td>2020-03-02</td> <td>2020-03-08</td> <td>7   </td> <td>2020</td> <td>10  </td> <td>51709098  </td> <td>5961        </td> <td>33          </td> <td>6128.38        </td> <td>-167.38      </td> <td>5928            </td> <td>0.0638186            </td> <td>-0.323695             </td> <td>-0.0273122              </td>\n",
              "        </tr>\n",
              "    </tbody>\n",
              "</table>\n",
              "<p>... (60 rows omitted)</p>"
            ],
            "text/plain": [
              "country     | region      | region_code | start_date | end_date   | days | year | week | population | total_deaths | covid_deaths | expected_deaths | excess_deaths | non_covid_deaths | covid_deaths_per_100k | excess_deaths_per_100k | excess_deaths_pct_change\n",
              "South Korea | South Korea | 0           | 2019-12-30 | 2020-01-05 | 7    | 2020 | 1    | 51709098   | 6438         | 0            | 6423.32         | 14.6835       | 6438             | 0                     | 0.0283964              | 0.00228597\n",
              "South Korea | South Korea | 0           | 2020-01-06 | 2020-01-12 | 7    | 2020 | 2    | 51709098   | 6321         | 0            | 6433.48         | -112.483      | 6321             | 0                     | -0.217531              | -0.017484\n",
              "South Korea | South Korea | 0           | 2020-01-13 | 2020-01-19 | 7    | 2020 | 3    | 51709098   | 6405         | 0            | 6415.65         | -10.6498      | 6405             | 0                     | -0.0205956             | -0.00165997\n",
              "South Korea | South Korea | 0           | 2020-01-20 | 2020-01-26 | 7    | 2020 | 4    | 51709098   | 6490         | 0            | 6365.48         | 124.517       | 6490             | 0                     | 0.240803               | 0.0195613\n",
              "South Korea | South Korea | 0           | 2020-01-27 | 2020-02-02 | 7    | 2020 | 5    | 51709098   | 6434         | 0            | 6359.82         | 74.1835       | 6434             | 0                     | 0.143463               | 0.0116644\n",
              "South Korea | South Korea | 0           | 2020-02-03 | 2020-02-09 | 7    | 2020 | 6    | 51709098   | 6430         | 0            | 6225.48         | 204.517       | 6430             | 0                     | 0.395514               | 0.0328516\n",
              "South Korea | South Korea | 0           | 2020-02-10 | 2020-02-16 | 7    | 2020 | 7    | 51709098   | 6161         | 0            | 6181.82         | -20.8165      | 6161             | 0                     | -0.0402569             | -0.00336737\n",
              "South Korea | South Korea | 0           | 2020-02-17 | 2020-02-23 | 7    | 2020 | 8    | 51709098   | 5971         | 6            | 6187.82         | -216.816      | 5965             | 0.0116034             | -0.4193                | -0.0350393\n",
              "South Korea | South Korea | 0           | 2020-02-24 | 2020-03-01 | 7    | 2020 | 9    | 51709098   | 6014         | 11           | 6200.58         | -186.58       | 6003             | 0.0212729             | -0.360826              | -0.0300907\n",
              "South Korea | South Korea | 0           | 2020-03-02 | 2020-03-08 | 7    | 2020 | 10   | 51709098   | 5961         | 33           | 6128.38         | -167.38       | 5928             | 0.0638186             | -0.323695              | -0.0273122\n",
              "... (60 rows omitted)"
            ]
          },
          "metadata": {
            "tags": []
          },
          "execution_count": 5
        }
      ]
    },
    {
      "cell_type": "code",
      "metadata": {
        "colab": {
          "base_uri": "https://localhost:8080/",
          "height": 281
        },
        "id": "MGK7brIUBYlP",
        "outputId": "1c562aaa-4cfa-41d8-f11e-8824307319c4"
      },
      "source": [
        "korea_graph = covid_death_korea.select('start_date','end_date','total_deaths','covid_deaths')\n",
        "korea_graph['week'] = np.arange(1,71)\n",
        "korea_graph.select('week','covid_deaths').plot('week')"
      ],
      "execution_count": null,
      "outputs": [
        {
          "output_type": "display_data",
          "data": {
            "image/png": "[encoded data removed]",
            "text/plain": [
              "<Figure size 432x288 with 1 Axes>"
            ]
          },
          "metadata": {
            "tags": [],
            "needs_background": "light"
          }
        }
      ]
    },
    {
      "cell_type": "code",
      "metadata": {
        "colab": {
          "base_uri": "https://localhost:8080/",
          "height": 79
        },
        "id": "3GkoWtor3DA6",
        "outputId": "72c65872-831b-4f63-b2d0-84bb3cea9475"
      },
      "source": [
        "total_death = covid_death_korea.select('country','total_deaths','covid_deaths').group('country',np.sum)\n",
        "total_death"
      ],
      "execution_count": null,
      "outputs": [
        {
          "output_type": "execute_result",
          "data": {
            "text/html": [
              "<table border=\"1\" class=\"dataframe\">\n",
              "    <thead>\n",
              "        <tr>\n",
              "            <th>country</th> <th>total_deaths sum</th> <th>covid_deaths sum</th>\n",
              "        </tr>\n",
              "    </thead>\n",
              "    <tbody>\n",
              "        <tr>\n",
              "            <td>South Korea</td> <td>409969          </td> <td>1834            </td>\n",
              "        </tr>\n",
              "    </tbody>\n",
              "</table>"
            ],
            "text/plain": [
              "country     | total_deaths sum | covid_deaths sum\n",
              "South Korea | 409969           | 1834"
            ]
          },
          "metadata": {
            "tags": []
          },
          "execution_count": 7
        }
      ]
    },
    {
      "cell_type": "code",
      "metadata": {
        "colab": {
          "base_uri": "https://localhost:8080/",
          "height": 79
        },
        "id": "EqBjR10C_PyF",
        "outputId": "d4098790-5eb9-46d7-fe75-9b6e7b6cb4ac"
      },
      "source": [
        "total_death['covid/total'] = total_death.column(2)[0]/total_death.column(1)[0]\n",
        "total_death"
      ],
      "execution_count": null,
      "outputs": [
        {
          "output_type": "execute_result",
          "data": {
            "text/html": [
              "<table border=\"1\" class=\"dataframe\">\n",
              "    <thead>\n",
              "        <tr>\n",
              "            <th>country</th> <th>total_deaths sum</th> <th>covid_deaths sum</th> <th>covid/total</th>\n",
              "        </tr>\n",
              "    </thead>\n",
              "    <tbody>\n",
              "        <tr>\n",
              "            <td>South Korea</td> <td>409969          </td> <td>1834            </td> <td>0.00447351 </td>\n",
              "        </tr>\n",
              "    </tbody>\n",
              "</table>"
            ],
            "text/plain": [
              "country     | total_deaths sum | covid_deaths sum | covid/total\n",
              "South Korea | 409969           | 1834             | 0.00447351"
            ]
          },
          "metadata": {
            "tags": []
          },
          "execution_count": 8
        }
      ]
    },
    {
      "cell_type": "code",
      "metadata": {
        "id": "QcDLWQ0A_lgc"
      },
      "source": [
        ""
      ],
      "execution_count": null,
      "outputs": []
    }
  ]
}