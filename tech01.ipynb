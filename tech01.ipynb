{
 "cells": [
  {
   "cell_type": "code",
   "execution_count": 10,
   "id": "df4b9f1e",
   "metadata": {},
   "outputs": [],
   "source": [
    "import pandas as pd\n",
    "fpath = 'pyda100-csv'"
   ]
  },
  {
   "cell_type": "code",
   "execution_count": 11,
   "id": "bf800423",
   "metadata": {},
   "outputs": [],
   "source": [
    "customer_master = pd.read_csv(fpath+'/ch1/customer_master.csv')"
   ]
  },
  {
   "cell_type": "code",
   "execution_count": 12,
   "id": "4b39654a",
   "metadata": {},
   "outputs": [
    {
     "data": {
      "text/html": [
       "<div>\n",
       "<style scoped>\n",
       "    .dataframe tbody tr th:only-of-type {\n",
       "        vertical-align: middle;\n",
       "    }\n",
       "\n",
       "    .dataframe tbody tr th {\n",
       "        vertical-align: top;\n",
       "    }\n",
       "\n",
       "    .dataframe thead th {\n",
       "        text-align: right;\n",
       "    }\n",
       "</style>\n",
       "<table border=\"1\" class=\"dataframe\">\n",
       "  <thead>\n",
       "    <tr style=\"text-align: right;\">\n",
       "      <th></th>\n",
       "      <th>customer_id</th>\n",
       "      <th>customer_name</th>\n",
       "      <th>registration_date</th>\n",
       "      <th>email</th>\n",
       "      <th>gender</th>\n",
       "      <th>age</th>\n",
       "      <th>birth</th>\n",
       "      <th>pref</th>\n",
       "    </tr>\n",
       "  </thead>\n",
       "  <tbody>\n",
       "    <tr>\n",
       "      <th>0</th>\n",
       "      <td>IK152942</td>\n",
       "      <td>김서준</td>\n",
       "      <td>2019-01-01 0:25</td>\n",
       "      <td>hirata_yuujirou@example.com</td>\n",
       "      <td>M</td>\n",
       "      <td>29</td>\n",
       "      <td>1990-06-10</td>\n",
       "      <td>대전광역시</td>\n",
       "    </tr>\n",
       "    <tr>\n",
       "      <th>1</th>\n",
       "      <td>TS808488</td>\n",
       "      <td>김예준</td>\n",
       "      <td>2019-01-01 1:13</td>\n",
       "      <td>tamura_shiori@example.com</td>\n",
       "      <td>F</td>\n",
       "      <td>33</td>\n",
       "      <td>1986-05-20</td>\n",
       "      <td>인천광역시</td>\n",
       "    </tr>\n",
       "    <tr>\n",
       "      <th>2</th>\n",
       "      <td>AS834628</td>\n",
       "      <td>김도윤</td>\n",
       "      <td>2019-01-01 2:00</td>\n",
       "      <td>hisano_yuki@example.com</td>\n",
       "      <td>F</td>\n",
       "      <td>63</td>\n",
       "      <td>1956-01-02</td>\n",
       "      <td>광주광역시</td>\n",
       "    </tr>\n",
       "    <tr>\n",
       "      <th>3</th>\n",
       "      <td>AS345469</td>\n",
       "      <td>김시우</td>\n",
       "      <td>2019-01-01 4:48</td>\n",
       "      <td>tsuruoka_kaoru@example.com</td>\n",
       "      <td>M</td>\n",
       "      <td>74</td>\n",
       "      <td>1945-03-25</td>\n",
       "      <td>인천광역시</td>\n",
       "    </tr>\n",
       "    <tr>\n",
       "      <th>4</th>\n",
       "      <td>GD892565</td>\n",
       "      <td>김주원</td>\n",
       "      <td>2019-01-01 4:54</td>\n",
       "      <td>oouchi_takashi@example.com</td>\n",
       "      <td>M</td>\n",
       "      <td>54</td>\n",
       "      <td>1965-08-05</td>\n",
       "      <td>울산광역시</td>\n",
       "    </tr>\n",
       "  </tbody>\n",
       "</table>\n",
       "</div>"
      ],
      "text/plain": [
       "  customer_id customer_name registration_date                        email  \\\n",
       "0    IK152942           김서준   2019-01-01 0:25  hirata_yuujirou@example.com   \n",
       "1    TS808488           김예준   2019-01-01 1:13    tamura_shiori@example.com   \n",
       "2    AS834628           김도윤   2019-01-01 2:00      hisano_yuki@example.com   \n",
       "3    AS345469           김시우   2019-01-01 4:48   tsuruoka_kaoru@example.com   \n",
       "4    GD892565           김주원   2019-01-01 4:54   oouchi_takashi@example.com   \n",
       "\n",
       "  gender  age       birth   pref  \n",
       "0      M   29  1990-06-10  대전광역시  \n",
       "1      F   33  1986-05-20  인천광역시  \n",
       "2      F   63  1956-01-02  광주광역시  \n",
       "3      M   74  1945-03-25  인천광역시  \n",
       "4      M   54  1965-08-05  울산광역시  "
      ]
     },
     "execution_count": 12,
     "metadata": {},
     "output_type": "execute_result"
    }
   ],
   "source": [
    "customer_master.head()"
   ]
  },
  {
   "cell_type": "code",
   "execution_count": null,
   "id": "9a9bbdeb",
   "metadata": {},
   "outputs": [],
   "source": []
  }
 ],
 "metadata": {
  "kernelspec": {
   "display_name": "Python 3",
   "language": "python",
   "name": "python3"
  },
  "language_info": {
   "codemirror_mode": {
    "name": "ipython",
    "version": 3
   },
   "file_extension": ".py",
   "mimetype": "text/x-python",
   "name": "python",
   "nbconvert_exporter": "python",
   "pygments_lexer": "ipython3",
   "version": "3.8.8"
  }
 },
 "nbformat": 4,
 "nbformat_minor": 5
}
